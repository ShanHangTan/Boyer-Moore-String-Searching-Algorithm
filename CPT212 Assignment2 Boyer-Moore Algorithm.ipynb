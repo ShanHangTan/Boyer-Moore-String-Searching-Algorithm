{
 "cells": [
  {
   "cell_type": "markdown",
   "id": "e5bfc5d2-ff91-44f8-8877-c1ef922068c1",
   "metadata": {},
   "source": [
    "# The Boyer-Moore String Searching Algorithm"
   ]
  },
  {
   "cell_type": "code",
   "execution_count": 3,
   "id": "7b50843b-4516-481a-84fd-1cebcfe9c40a",
   "metadata": {},
   "outputs": [
    {
     "name": "stdout",
     "output_type": "stream",
     "text": [
      "*****Boyer-Moore String Search Algorithm*****\n"
     ]
    },
    {
     "name": "stdin",
     "output_type": "stream",
     "text": [
      "Enter the text:\n",
      " 123\n",
      "Enter the pattern:\n",
      " 32\n"
     ]
    },
    {
     "ename": "NameError",
     "evalue": "name 'found' is not defined",
     "output_type": "error",
     "traceback": [
      "\u001b[1;31m---------------------------------------------------------------------------\u001b[0m",
      "\u001b[1;31mNameError\u001b[0m                                 Traceback (most recent call last)",
      "Cell \u001b[1;32mIn[3], line 103\u001b[0m\n\u001b[0;32m    101\u001b[0m \u001b[38;5;66;03m# Run Main Function\u001b[39;00m\n\u001b[0;32m    102\u001b[0m \u001b[38;5;28;01mif\u001b[39;00m \u001b[38;5;18m__name__\u001b[39m \u001b[38;5;241m==\u001b[39m \u001b[38;5;124m'\u001b[39m\u001b[38;5;124m__main__\u001b[39m\u001b[38;5;124m'\u001b[39m:\n\u001b[1;32m--> 103\u001b[0m     main()\n",
      "Cell \u001b[1;32mIn[3], line 99\u001b[0m, in \u001b[0;36mmain\u001b[1;34m()\u001b[0m\n\u001b[0;32m     97\u001b[0m txt \u001b[38;5;241m=\u001b[39m \u001b[38;5;28minput\u001b[39m(\u001b[38;5;124m\"\u001b[39m\u001b[38;5;124mEnter the text:\u001b[39m\u001b[38;5;130;01m\\n\u001b[39;00m\u001b[38;5;124m\"\u001b[39m)      \u001b[38;5;66;03m# Input the text\u001b[39;00m\n\u001b[0;32m     98\u001b[0m pat \u001b[38;5;241m=\u001b[39m \u001b[38;5;28minput\u001b[39m(\u001b[38;5;124m\"\u001b[39m\u001b[38;5;124mEnter the pattern:\u001b[39m\u001b[38;5;130;01m\\n\u001b[39;00m\u001b[38;5;124m\"\u001b[39m)   \u001b[38;5;66;03m# Input the pattern\u001b[39;00m\n\u001b[1;32m---> 99\u001b[0m search(txt, pat)\n",
      "Cell \u001b[1;32mIn[3], line 90\u001b[0m, in \u001b[0;36msearch\u001b[1;34m(txt, pat)\u001b[0m\n\u001b[0;32m     85\u001b[0m     \u001b[38;5;28;01melse\u001b[39;00m:\n\u001b[0;32m     86\u001b[0m         \u001b[38;5;66;03m# Calculate the shifts for both Rules\u001b[39;00m\n\u001b[0;32m     87\u001b[0m         \u001b[38;5;66;03m# Choose the larger shift\u001b[39;00m\n\u001b[0;32m     88\u001b[0m         s \u001b[38;5;241m+\u001b[39m\u001b[38;5;241m=\u001b[39m \u001b[38;5;28mmax\u001b[39m(j\u001b[38;5;241m-\u001b[39mbadChar[\u001b[38;5;28mord\u001b[39m(txt[s\u001b[38;5;241m+\u001b[39mj])], shift[j \u001b[38;5;241m+\u001b[39m \u001b[38;5;241m1\u001b[39m])\n\u001b[1;32m---> 90\u001b[0m \u001b[38;5;28;01mif\u001b[39;00m \u001b[38;5;129;01mnot\u001b[39;00m found:\n\u001b[0;32m     91\u001b[0m     \u001b[38;5;28mprint\u001b[39m(\u001b[38;5;124m\"\u001b[39m\u001b[38;5;124mPattern not found in the text\u001b[39m\u001b[38;5;124m\"\u001b[39m)\n",
      "\u001b[1;31mNameError\u001b[0m: name 'found' is not defined"
     ]
    }
   ],
   "source": [
    "# Give each character a number for the bad character function\n",
    "NO_OF_CHARS = 256\n",
    "\n",
    "def badCharHeuristic(string, size):\n",
    "    # Set all character occurrences as -1\n",
    "    badChar = [-1]*NO_OF_CHARS\n",
    "\n",
    "    # i) Fill in occurences in the pattern with indexes starting from 0\n",
    "    # depending on the size of pattern\n",
    "    # ii) If there are reoccuring characters in the pattern, the rightmost\n",
    "    # character will be given the final index, covering the prior index\n",
    "    for i in range(size):\n",
    "        badChar[ord(string[i])] = i\n",
    "    \n",
    "    # return initialized list\n",
    "    return badChar\n",
    "\n",
    "def preprocess_strong_suffix(shift, bpos, pat, m):\n",
    "    \n",
    "    i = m      # Length of pattern\n",
    "    j = m + 1\n",
    "    bpos[i] = j\n",
    "\n",
    "    while i > 0:\n",
    "        # if character at position i-1 is not equivalent to\n",
    "        # character at j-1, then continue searching to right\n",
    "        # of the pattern for border \n",
    "        while j <= m and pat[i - 1] != pat[j - 1]:\n",
    "            # the character preceding the occurrence of t in \n",
    "            # pattern P is different than the mismatching character in P,\n",
    "            # we stop skipping the occurrences and shift the pattern\n",
    "            # from i to j \n",
    "            if shift[j] == 0:\n",
    "                shift[j] = j - i\n",
    "\n",
    "            # Update the position of next border \n",
    "            j = bpos[j]\n",
    "        # p[i-1] matched with p[j-1], border is found.\n",
    "        # store the  beginning position of border \n",
    "        i -= 1\n",
    "        j -= 1\n",
    "        bpos[i] = j\n",
    "\n",
    "def preprocess_case2(shift, bpos, pat, m):\n",
    "    j = bpos[0]\n",
    "    for i in range(m + 1):\n",
    "        # set the border position of the first character of the pattern\n",
    "        # to all indices in array shift having shift[i] = 0 \n",
    "        if shift[i] == 0:\n",
    "            shift[i] = j\n",
    "\n",
    "        # suffix becomes shorter than bpos[0], use the position of \n",
    "        # next widest border as value of j \n",
    "        if i == j:\n",
    "            j = bpos[j]\n",
    "\n",
    "def search(txt, pat):\n",
    "    s = 0          # s determines how many steps the pattern will shift to the right\n",
    "    m = len(pat)   # Length of pattern\n",
    "    n = len(txt)   # Length of text\n",
    "    bpos = [0] * (m + 1)\n",
    "    shift = [0] * (m + 1)\n",
    "    \n",
    "    # Preprocessing for both Rules\n",
    "    badChar = badCharHeuristic(pat, m)\n",
    "    preprocess_strong_suffix(shift, bpos, pat, m)\n",
    "    preprocess_case2(shift, bpos, pat, m)\n",
    "\n",
    "    found = False  # Initiai\n",
    "    \n",
    "    while(s <= n-m):\n",
    "        # j allows text-pattern matching occur where letter of pattern shifts \n",
    "        # from right to left\n",
    "        j = m-1\n",
    "        \n",
    "        while j >= 0 and pat[j] == txt[s+j]:\n",
    "            # If j decreases until it reaches -1, it means there's a pattern\n",
    "            # in the text\n",
    "            j -= 1\n",
    "\n",
    "        if j < 0:\n",
    "            \n",
    "            print(\"Pattern occur at shift =\", s)   # Print pattern occurence\n",
    "            \n",
    "            # Shift using bad character rule\n",
    "            s += (m-badChar[ord(txt[s+m])] if s+m < n else 1)\n",
    "        else:\n",
    "            # Calculate the shifts for both Rules\n",
    "            # Choose the larger shift\n",
    "            s += max(j-badChar[ord(txt[s+j])], shift[j + 1])\n",
    "            \n",
    "    if not found:\n",
    "        print(\"Pattern not found in the text\")\n",
    "\n",
    "\n",
    "# User Interactive Main Function\n",
    "def main():\n",
    "    print(\"*****Boyer-Moore String Search Algorithm*****\")\n",
    "    txt = input(\"Enter the text:\\n\")      # Input the text\n",
    "    pat = input(\"Enter the pattern:\\n\")   # Input the pattern\n",
    "    search(txt, pat)\n",
    "\n",
    "# Run Main Function\n",
    "if __name__ == '__main__':\n",
    "    main()"
   ]
  },
  {
   "cell_type": "code",
   "execution_count": null,
   "id": "c9468538-fa8b-45d2-b855-32ed31956db3",
   "metadata": {},
   "outputs": [],
   "source": []
  }
 ],
 "metadata": {
  "kernelspec": {
   "display_name": "Python 3 (ipykernel)",
   "language": "python",
   "name": "python3"
  },
  "language_info": {
   "codemirror_mode": {
    "name": "ipython",
    "version": 3
   },
   "file_extension": ".py",
   "mimetype": "text/x-python",
   "name": "python",
   "nbconvert_exporter": "python",
   "pygments_lexer": "ipython3",
   "version": "3.11.7"
  }
 },
 "nbformat": 4,
 "nbformat_minor": 5
}
